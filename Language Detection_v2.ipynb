{
 "cells": [
  {
   "cell_type": "markdown",
   "metadata": {},
   "source": [
    "\n",
    "\n",
    "## Step 1: Reading the files from individual folders as part of data extraction"
   ]
  },
  {
   "cell_type": "code",
   "execution_count": 1,
   "metadata": {
    "collapsed": false
   },
   "outputs": [],
   "source": [
    "import glob\n",
    "import csv\n",
    "import pandas as pd\n",
    "import re\n",
    "\n",
    "def dataExtraction(path):\n",
    "    list_of_files = glob.glob(path)\n",
    "    text_add=[]\n",
    "  \n",
    "    for fileName in list_of_files:\n",
    "        data = open( fileName, encoding='utf8')\n",
    "        data=data.read()\n",
    "        text= data.split(' ') # Extracting words from text files\n",
    "        for i in text:\n",
    "            if i!='ID' and i!='NAME' and i!='SPEAKER' and i!='CHAPTER' and i!='LANGUAGE' and  i!='<P>':\n",
    "                text_add.append(i)\n",
    "    return(text_add) # Returns a list of all words in a given text file"
   ]
  },
  {
   "cell_type": "markdown",
   "metadata": {},
   "source": [
    "## Step 2: Removing noise from Training data\n",
    "\n",
    "This includes removing punctuations and digits from the extracted text."
   ]
  },
  {
   "cell_type": "code",
   "execution_count": 2,
   "metadata": {
    "collapsed": true
   },
   "outputs": [],
   "source": [
    "def removeNoise(data):\n",
    "    data[0]= data[0].str.replace('\\s', ' ')\n",
    "    data[0]= data[0].str.replace('ID', ' ')\n",
    "    data[0]= data[0].str.replace('NAME', ' ')\n",
    "    data[0]= data[0].str.replace('SPEAKER', ' ')\n",
    "    data[0]= data[0].str.replace('CHAPTER', ' ')\n",
    "    data[0]= data[0].str.replace('LANGUAGE', ' ')\n",
    "    data[0]= data[0].str.replace('<P>', ' ')\n",
    "    data[0]= data[0].str.replace('/', ' ')\n",
    "    data[0]= data[0].str.replace('[=<>\":-;.,\\(\\)]', ' ')\n",
    "    data[0]= data[0].str.replace('[0-9]', ' ')\n",
    "    data[0]= data[0].str.strip()\n",
    "    data = data[data[0] != '']\n",
    "    data= data.drop_duplicates()\n",
    "    data=data.dropna()\n",
    "    return(data)\n"
   ]
  },
  {
   "cell_type": "markdown",
   "metadata": {},
   "source": [
    "## Step 3: Removing noise from Test data\n",
    "\n",
    "We ensure that we treat the test data exactly like we treated the training data to remove characters such as punctuations and digits which add noise to test data"
   ]
  },
  {
   "cell_type": "code",
   "execution_count": 3,
   "metadata": {
    "collapsed": true
   },
   "outputs": [],
   "source": [
    "def removeNoiseTest(data):\n",
    "    data[1]= data[1].str.replace('\\s', ' ')\n",
    "    data[1]= data[1].str.replace('ID', ' ')\n",
    "    data[1]= data[1].str.replace('NAME', ' ')\n",
    "    data[1]= data[1].str.replace('SPEAKER', ' ')\n",
    "    data[1]= data[1].str.replace('CHAPTER', ' ')\n",
    "    data[1]= data[1].str.replace('LANGUAGE', ' ')\n",
    "    data[1]= data[1].str.replace('<P>', ' ')\n",
    "    data[1]= data[1].str.replace('/', ' ')\n",
    "    data[1]= data[1].str.replace('[=<>\":-;.,\\(\\)]', ' ')\n",
    "    data[1]= data[1].str.replace('[0-9]', ' ')\n",
    "    data[1]= data[1].str.strip()\n",
    "    data = data[data[1] != '']\n",
    "    data= data.drop_duplicates()\n",
    "    data=data.dropna()\n",
    "    return(data)"
   ]
  },
  {
   "cell_type": "markdown",
   "metadata": {},
   "source": [
    "## Language Detection\n",
    "\n",
    "List of all the languages whose detection is supported:\n",
    "- 'bg': Bulgarian\n",
    "- 'cs': Czech\n",
    "- 'da': Danish\n",
    "- 'de': German\n",
    "- 'el': Greek, Modern \n",
    "- 'en': English\n",
    "- 'es': Spanish\n",
    "- 'et': Estonian\n",
    "- 'fi': Finnish\n",
    "- 'fr': French\n",
    "- 'hu': Hungarian\n",
    "- 'it': Italian\n",
    "- 'lt': Lithuanian\n",
    "- 'lv': Latvian\n",
    "- 'nl': Dutch\n",
    "- 'pl': Polish\n",
    "- 'pt': Portuguese\n",
    "- 'ro': Romanian\n",
    "- 'sk': Slovak\n",
    "- 'sl': Slovenian\n",
    "- 'sv': Swedish\n",
    "\n",
    "There are therefore, 21 categorical variables that our classifier needs to be able to identify correctly."
   ]
  },
  {
   "cell_type": "code",
   "execution_count": 4,
   "metadata": {
    "collapsed": false
   },
   "outputs": [],
   "source": [
    "# List of labels to be classified\n",
    "\n",
    "labels=['bg','cs','da','de','el','en','es','et','fi','fr','hu','it','lt','lv','nl','pl','pt','ro','sk','sl','sv'] "
   ]
  },
  {
   "cell_type": "markdown",
   "metadata": {},
   "source": [
    "## Step 4: Function used to join all words held in a dataframe for a given language and place these words in a list"
   ]
  },
  {
   "cell_type": "code",
   "execution_count": 5,
   "metadata": {
    "collapsed": true
   },
   "outputs": [],
   "source": [
    "def listToText(Series): \n",
    "    Series_list= Series[0].tolist()\n",
    "    Series_str= ' '.join(Series_list)\n",
    "    return(Series_str)"
   ]
  },
  {
   "cell_type": "markdown",
   "metadata": {},
   "source": [
    "### Implementing Step 1 and Step 2 on raw text files to obtain Training data"
   ]
  },
  {
   "cell_type": "code",
   "execution_count": 6,
   "metadata": {
    "collapsed": false
   },
   "outputs": [],
   "source": [
    "path_bg= '~/startup_ml/europarl/txt/bg/*.txt'\n",
    "a1= dataExtraction(path_bg)"
   ]
  },
  {
   "cell_type": "code",
   "execution_count": 7,
   "metadata": {
    "collapsed": true
   },
   "outputs": [],
   "source": [
    "b1= pd.DataFrame(a1)"
   ]
  },
  {
   "cell_type": "code",
   "execution_count": 8,
   "metadata": {
    "collapsed": false
   },
   "outputs": [
    {
     "data": {
      "text/html": [
       "<div>\n",
       "<table border=\"1\" class=\"dataframe\">\n",
       "  <thead>\n",
       "    <tr style=\"text-align: right;\">\n",
       "      <th></th>\n",
       "      <th>0</th>\n",
       "    </tr>\n",
       "  </thead>\n",
       "  <tbody>\n",
       "    <tr>\n",
       "      <th>1</th>\n",
       "      <td>Състав</td>\n",
       "    </tr>\n",
       "  </tbody>\n",
       "</table>\n",
       "</div>"
      ],
      "text/plain": [
       "        0\n",
       "1  Състав"
      ]
     },
     "execution_count": 8,
     "metadata": {},
     "output_type": "execute_result"
    }
   ],
   "source": [
    "data_bg= removeNoise(b1)\n",
    "data_bg.head(1)"
   ]
  },
  {
   "cell_type": "code",
   "execution_count": 9,
   "metadata": {
    "collapsed": true
   },
   "outputs": [],
   "source": [
    "path_cs= '~/startup_ml/europarl/txt/cs/*.txt'\n",
    "a2= dataExtraction(path_cs)"
   ]
  },
  {
   "cell_type": "code",
   "execution_count": 10,
   "metadata": {
    "collapsed": true
   },
   "outputs": [],
   "source": [
    "b2= pd.DataFrame(a2)"
   ]
  },
  {
   "cell_type": "code",
   "execution_count": 11,
   "metadata": {
    "collapsed": false
   },
   "outputs": [
    {
     "data": {
      "text/html": [
       "<div>\n",
       "<table border=\"1\" class=\"dataframe\">\n",
       "  <thead>\n",
       "    <tr style=\"text-align: right;\">\n",
       "      <th></th>\n",
       "      <th>0</th>\n",
       "    </tr>\n",
       "  </thead>\n",
       "  <tbody>\n",
       "    <tr>\n",
       "      <th>1</th>\n",
       "      <td>Schválení</td>\n",
       "    </tr>\n",
       "  </tbody>\n",
       "</table>\n",
       "</div>"
      ],
      "text/plain": [
       "           0\n",
       "1  Schválení"
      ]
     },
     "execution_count": 11,
     "metadata": {},
     "output_type": "execute_result"
    }
   ],
   "source": [
    "data_cs= removeNoise(b2)\n",
    "data_cs.head(1)"
   ]
  },
  {
   "cell_type": "code",
   "execution_count": 12,
   "metadata": {
    "collapsed": true
   },
   "outputs": [],
   "source": [
    "path_da= '~/startup_ml/europarl/txt/da/*.txt'\n",
    "a3= dataExtraction(path_da)"
   ]
  },
  {
   "cell_type": "code",
   "execution_count": 13,
   "metadata": {
    "collapsed": true
   },
   "outputs": [],
   "source": [
    "b3= pd.DataFrame(a3)"
   ]
  },
  {
   "cell_type": "code",
   "execution_count": 14,
   "metadata": {
    "collapsed": false
   },
   "outputs": [
    {
     "data": {
      "text/html": [
       "<div>\n",
       "<table border=\"1\" class=\"dataframe\">\n",
       "  <thead>\n",
       "    <tr style=\"text-align: right;\">\n",
       "      <th></th>\n",
       "      <th>0</th>\n",
       "    </tr>\n",
       "  </thead>\n",
       "  <tbody>\n",
       "    <tr>\n",
       "      <th>1</th>\n",
       "      <td>Genoptagelse</td>\n",
       "    </tr>\n",
       "  </tbody>\n",
       "</table>\n",
       "</div>"
      ],
      "text/plain": [
       "              0\n",
       "1  Genoptagelse"
      ]
     },
     "execution_count": 14,
     "metadata": {},
     "output_type": "execute_result"
    }
   ],
   "source": [
    "data_da= removeNoise(b3)\n",
    "data_da.head(1)"
   ]
  },
  {
   "cell_type": "code",
   "execution_count": 15,
   "metadata": {
    "collapsed": false
   },
   "outputs": [],
   "source": [
    "path_de= '~/startup_ml/europarl/txt/de/*.txt'\n",
    "a4= dataExtraction(path_de)"
   ]
  },
  {
   "cell_type": "code",
   "execution_count": 16,
   "metadata": {
    "collapsed": true
   },
   "outputs": [],
   "source": [
    "b4= pd.DataFrame(a4)"
   ]
  },
  {
   "cell_type": "code",
   "execution_count": 17,
   "metadata": {
    "collapsed": false
   },
   "outputs": [
    {
     "data": {
      "text/html": [
       "<div>\n",
       "<table border=\"1\" class=\"dataframe\">\n",
       "  <thead>\n",
       "    <tr style=\"text-align: right;\">\n",
       "      <th></th>\n",
       "      <th>0</th>\n",
       "    </tr>\n",
       "  </thead>\n",
       "  <tbody>\n",
       "    <tr>\n",
       "      <th>1</th>\n",
       "      <td>Wiederaufnahme</td>\n",
       "    </tr>\n",
       "  </tbody>\n",
       "</table>\n",
       "</div>"
      ],
      "text/plain": [
       "                0\n",
       "1  Wiederaufnahme"
      ]
     },
     "execution_count": 17,
     "metadata": {},
     "output_type": "execute_result"
    }
   ],
   "source": [
    "data_de= removeNoise(b4)\n",
    "data_de.head(1)"
   ]
  },
  {
   "cell_type": "code",
   "execution_count": 18,
   "metadata": {
    "collapsed": true
   },
   "outputs": [],
   "source": [
    "path_el= '~/startup_ml/europarl/txt/el/*.txt'\n",
    "a5= dataExtraction(path_el)"
   ]
  },
  {
   "cell_type": "code",
   "execution_count": 19,
   "metadata": {
    "collapsed": true
   },
   "outputs": [],
   "source": [
    "b5= pd.DataFrame(a5)"
   ]
  },
  {
   "cell_type": "code",
   "execution_count": 20,
   "metadata": {
    "collapsed": false
   },
   "outputs": [
    {
     "data": {
      "text/html": [
       "<div>\n",
       "<table border=\"1\" class=\"dataframe\">\n",
       "  <thead>\n",
       "    <tr style=\"text-align: right;\">\n",
       "      <th></th>\n",
       "      <th>0</th>\n",
       "    </tr>\n",
       "  </thead>\n",
       "  <tbody>\n",
       "    <tr>\n",
       "      <th>1</th>\n",
       "      <td>Επαvάληψη</td>\n",
       "    </tr>\n",
       "  </tbody>\n",
       "</table>\n",
       "</div>"
      ],
      "text/plain": [
       "           0\n",
       "1  Επαvάληψη"
      ]
     },
     "execution_count": 20,
     "metadata": {},
     "output_type": "execute_result"
    }
   ],
   "source": [
    "data_el= removeNoise(b5)\n",
    "data_el.head(1)"
   ]
  },
  {
   "cell_type": "code",
   "execution_count": 21,
   "metadata": {
    "collapsed": true
   },
   "outputs": [],
   "source": [
    "path_en= '~/startup_ml/europarl/txt/en/*.txt'\n",
    "a6= dataExtraction(path_en)"
   ]
  },
  {
   "cell_type": "code",
   "execution_count": 22,
   "metadata": {
    "collapsed": true
   },
   "outputs": [],
   "source": [
    "b6= pd.DataFrame(a6)"
   ]
  },
  {
   "cell_type": "code",
   "execution_count": 23,
   "metadata": {
    "collapsed": false
   },
   "outputs": [
    {
     "data": {
      "text/html": [
       "<div>\n",
       "<table border=\"1\" class=\"dataframe\">\n",
       "  <thead>\n",
       "    <tr style=\"text-align: right;\">\n",
       "      <th></th>\n",
       "      <th>0</th>\n",
       "    </tr>\n",
       "  </thead>\n",
       "  <tbody>\n",
       "    <tr>\n",
       "      <th>1</th>\n",
       "      <td>Resumption</td>\n",
       "    </tr>\n",
       "  </tbody>\n",
       "</table>\n",
       "</div>"
      ],
      "text/plain": [
       "            0\n",
       "1  Resumption"
      ]
     },
     "execution_count": 23,
     "metadata": {},
     "output_type": "execute_result"
    }
   ],
   "source": [
    "data_en= removeNoise(b6)\n",
    "data_en.head(1)"
   ]
  },
  {
   "cell_type": "code",
   "execution_count": 24,
   "metadata": {
    "collapsed": true
   },
   "outputs": [],
   "source": [
    "path_es= '~/startup_ml/europarl/txt/es/*.txt'\n",
    "a7= dataExtraction(path_es)"
   ]
  },
  {
   "cell_type": "code",
   "execution_count": 25,
   "metadata": {
    "collapsed": true
   },
   "outputs": [],
   "source": [
    "b7= pd.DataFrame(a7)"
   ]
  },
  {
   "cell_type": "code",
   "execution_count": 26,
   "metadata": {
    "collapsed": false
   },
   "outputs": [
    {
     "data": {
      "text/html": [
       "<div>\n",
       "<table border=\"1\" class=\"dataframe\">\n",
       "  <thead>\n",
       "    <tr style=\"text-align: right;\">\n",
       "      <th></th>\n",
       "      <th>0</th>\n",
       "    </tr>\n",
       "  </thead>\n",
       "  <tbody>\n",
       "    <tr>\n",
       "      <th>1</th>\n",
       "      <td>Reanudación</td>\n",
       "    </tr>\n",
       "  </tbody>\n",
       "</table>\n",
       "</div>"
      ],
      "text/plain": [
       "             0\n",
       "1  Reanudación"
      ]
     },
     "execution_count": 26,
     "metadata": {},
     "output_type": "execute_result"
    }
   ],
   "source": [
    "data_es= removeNoise(b7)\n",
    "data_es.head(1)"
   ]
  },
  {
   "cell_type": "code",
   "execution_count": 27,
   "metadata": {
    "collapsed": true
   },
   "outputs": [],
   "source": [
    "path_et= '~/startup_ml/europarl/txt/et/*.txt'\n",
    "a8= dataExtraction(path_et)"
   ]
  },
  {
   "cell_type": "code",
   "execution_count": 28,
   "metadata": {
    "collapsed": true
   },
   "outputs": [],
   "source": [
    "b8= pd.DataFrame(a8)"
   ]
  },
  {
   "cell_type": "code",
   "execution_count": 29,
   "metadata": {
    "collapsed": false
   },
   "outputs": [
    {
     "data": {
      "text/html": [
       "<div>\n",
       "<table border=\"1\" class=\"dataframe\">\n",
       "  <thead>\n",
       "    <tr style=\"text-align: right;\">\n",
       "      <th></th>\n",
       "      <th>0</th>\n",
       "    </tr>\n",
       "  </thead>\n",
       "  <tbody>\n",
       "    <tr>\n",
       "      <th>1</th>\n",
       "      <td>Eelmise</td>\n",
       "    </tr>\n",
       "  </tbody>\n",
       "</table>\n",
       "</div>"
      ],
      "text/plain": [
       "         0\n",
       "1  Eelmise"
      ]
     },
     "execution_count": 29,
     "metadata": {},
     "output_type": "execute_result"
    }
   ],
   "source": [
    "data_et= removeNoise(b8)\n",
    "data_et.head(1)"
   ]
  },
  {
   "cell_type": "code",
   "execution_count": 30,
   "metadata": {
    "collapsed": true
   },
   "outputs": [],
   "source": [
    "path_fi= '~/startup_ml/europarl/txt/fi/*.txt'\n",
    "a9= dataExtraction(path_fi)"
   ]
  },
  {
   "cell_type": "code",
   "execution_count": 31,
   "metadata": {
    "collapsed": true
   },
   "outputs": [],
   "source": [
    "b9= pd.DataFrame(a9)"
   ]
  },
  {
   "cell_type": "code",
   "execution_count": 32,
   "metadata": {
    "collapsed": false
   },
   "outputs": [
    {
     "data": {
      "text/html": [
       "<div>\n",
       "<table border=\"1\" class=\"dataframe\">\n",
       "  <thead>\n",
       "    <tr style=\"text-align: right;\">\n",
       "      <th></th>\n",
       "      <th>0</th>\n",
       "    </tr>\n",
       "  </thead>\n",
       "  <tbody>\n",
       "    <tr>\n",
       "      <th>1</th>\n",
       "      <td>Istuntokauden</td>\n",
       "    </tr>\n",
       "  </tbody>\n",
       "</table>\n",
       "</div>"
      ],
      "text/plain": [
       "               0\n",
       "1  Istuntokauden"
      ]
     },
     "execution_count": 32,
     "metadata": {},
     "output_type": "execute_result"
    }
   ],
   "source": [
    "data_fi= removeNoise(b9)\n",
    "data_fi.head(1)"
   ]
  },
  {
   "cell_type": "code",
   "execution_count": 33,
   "metadata": {
    "collapsed": true
   },
   "outputs": [],
   "source": [
    "path_fr= '~/startup_ml/europarl/txt/fr/*.txt'\n",
    "a10= dataExtraction(path_fr)"
   ]
  },
  {
   "cell_type": "code",
   "execution_count": 34,
   "metadata": {
    "collapsed": true
   },
   "outputs": [],
   "source": [
    "b10= pd.DataFrame(a10)"
   ]
  },
  {
   "cell_type": "code",
   "execution_count": 35,
   "metadata": {
    "collapsed": false
   },
   "outputs": [
    {
     "data": {
      "text/html": [
       "<div>\n",
       "<table border=\"1\" class=\"dataframe\">\n",
       "  <thead>\n",
       "    <tr style=\"text-align: right;\">\n",
       "      <th></th>\n",
       "      <th>0</th>\n",
       "    </tr>\n",
       "  </thead>\n",
       "  <tbody>\n",
       "    <tr>\n",
       "      <th>1</th>\n",
       "      <td>Reprise</td>\n",
       "    </tr>\n",
       "  </tbody>\n",
       "</table>\n",
       "</div>"
      ],
      "text/plain": [
       "         0\n",
       "1  Reprise"
      ]
     },
     "execution_count": 35,
     "metadata": {},
     "output_type": "execute_result"
    }
   ],
   "source": [
    "data_fr= removeNoise(b10)\n",
    "data_fr.head(1)"
   ]
  },
  {
   "cell_type": "code",
   "execution_count": 36,
   "metadata": {
    "collapsed": true
   },
   "outputs": [],
   "source": [
    "path_hu= '~/startup_ml/europarl/txt/hu/*.txt'\n",
    "a11= dataExtraction(path_hu)"
   ]
  },
  {
   "cell_type": "code",
   "execution_count": 37,
   "metadata": {
    "collapsed": true
   },
   "outputs": [],
   "source": [
    "b11= pd.DataFrame(a11)"
   ]
  },
  {
   "cell_type": "code",
   "execution_count": 38,
   "metadata": {
    "collapsed": false
   },
   "outputs": [
    {
     "data": {
      "text/html": [
       "<div>\n",
       "<table border=\"1\" class=\"dataframe\">\n",
       "  <thead>\n",
       "    <tr style=\"text-align: right;\">\n",
       "      <th></th>\n",
       "      <th>0</th>\n",
       "    </tr>\n",
       "  </thead>\n",
       "  <tbody>\n",
       "    <tr>\n",
       "      <th>1</th>\n",
       "      <td>Az</td>\n",
       "    </tr>\n",
       "  </tbody>\n",
       "</table>\n",
       "</div>"
      ],
      "text/plain": [
       "    0\n",
       "1  Az"
      ]
     },
     "execution_count": 38,
     "metadata": {},
     "output_type": "execute_result"
    }
   ],
   "source": [
    "data_hu= removeNoise(b11)\n",
    "data_hu.head(1)"
   ]
  },
  {
   "cell_type": "code",
   "execution_count": 39,
   "metadata": {
    "collapsed": true
   },
   "outputs": [],
   "source": [
    "path_it= '~/startup_ml/europarl/txt/it/*.txt'\n",
    "a12= dataExtraction(path_it)"
   ]
  },
  {
   "cell_type": "code",
   "execution_count": 40,
   "metadata": {
    "collapsed": true
   },
   "outputs": [],
   "source": [
    "b12= pd.DataFrame(a12)"
   ]
  },
  {
   "cell_type": "code",
   "execution_count": 41,
   "metadata": {
    "collapsed": false
   },
   "outputs": [
    {
     "data": {
      "text/html": [
       "<div>\n",
       "<table border=\"1\" class=\"dataframe\">\n",
       "  <thead>\n",
       "    <tr style=\"text-align: right;\">\n",
       "      <th></th>\n",
       "      <th>0</th>\n",
       "    </tr>\n",
       "  </thead>\n",
       "  <tbody>\n",
       "    <tr>\n",
       "      <th>1</th>\n",
       "      <td>Ripresa</td>\n",
       "    </tr>\n",
       "  </tbody>\n",
       "</table>\n",
       "</div>"
      ],
      "text/plain": [
       "         0\n",
       "1  Ripresa"
      ]
     },
     "execution_count": 41,
     "metadata": {},
     "output_type": "execute_result"
    }
   ],
   "source": [
    "data_it= removeNoise(b12)\n",
    "data_it.head(1)"
   ]
  },
  {
   "cell_type": "code",
   "execution_count": 42,
   "metadata": {
    "collapsed": true
   },
   "outputs": [],
   "source": [
    "path_lt= '~/startup_ml/europarl/txt/lt/*.txt'\n",
    "a13= dataExtraction(path_lt)"
   ]
  },
  {
   "cell_type": "code",
   "execution_count": 43,
   "metadata": {
    "collapsed": true
   },
   "outputs": [],
   "source": [
    "b13= pd.DataFrame(a13)"
   ]
  },
  {
   "cell_type": "code",
   "execution_count": 44,
   "metadata": {
    "collapsed": false
   },
   "outputs": [
    {
     "data": {
      "text/html": [
       "<div>\n",
       "<table border=\"1\" class=\"dataframe\">\n",
       "  <thead>\n",
       "    <tr style=\"text-align: right;\">\n",
       "      <th></th>\n",
       "      <th>0</th>\n",
       "    </tr>\n",
       "  </thead>\n",
       "  <tbody>\n",
       "    <tr>\n",
       "      <th>1</th>\n",
       "      <td>Ankstesnio</td>\n",
       "    </tr>\n",
       "  </tbody>\n",
       "</table>\n",
       "</div>"
      ],
      "text/plain": [
       "            0\n",
       "1  Ankstesnio"
      ]
     },
     "execution_count": 44,
     "metadata": {},
     "output_type": "execute_result"
    }
   ],
   "source": [
    "data_lt= removeNoise(b13)\n",
    "data_lt.head(1)"
   ]
  },
  {
   "cell_type": "code",
   "execution_count": 45,
   "metadata": {
    "collapsed": true
   },
   "outputs": [],
   "source": [
    "path_lv= '~/startup_ml/europarl/txt/lv/*.txt'\n",
    "a14= dataExtraction(path_lv)"
   ]
  },
  {
   "cell_type": "code",
   "execution_count": 46,
   "metadata": {
    "collapsed": true
   },
   "outputs": [],
   "source": [
    "b14= pd.DataFrame(a14)"
   ]
  },
  {
   "cell_type": "code",
   "execution_count": 47,
   "metadata": {
    "collapsed": false
   },
   "outputs": [
    {
     "data": {
      "text/html": [
       "<div>\n",
       "<table border=\"1\" class=\"dataframe\">\n",
       "  <thead>\n",
       "    <tr style=\"text-align: right;\">\n",
       "      <th></th>\n",
       "      <th>0</th>\n",
       "    </tr>\n",
       "  </thead>\n",
       "  <tbody>\n",
       "    <tr>\n",
       "      <th>1</th>\n",
       "      <td>Sēdē</td>\n",
       "    </tr>\n",
       "  </tbody>\n",
       "</table>\n",
       "</div>"
      ],
      "text/plain": [
       "      0\n",
       "1  Sēdē"
      ]
     },
     "execution_count": 47,
     "metadata": {},
     "output_type": "execute_result"
    }
   ],
   "source": [
    "data_lv= removeNoise(b14)\n",
    "data_lv.head(1)"
   ]
  },
  {
   "cell_type": "code",
   "execution_count": 48,
   "metadata": {
    "collapsed": true
   },
   "outputs": [],
   "source": [
    "path_nl= '~/startup_ml/europarl/txt/nl/*.txt'\n",
    "a15= dataExtraction(path_nl)"
   ]
  },
  {
   "cell_type": "code",
   "execution_count": 49,
   "metadata": {
    "collapsed": true
   },
   "outputs": [],
   "source": [
    "b15= pd.DataFrame(a15)"
   ]
  },
  {
   "cell_type": "code",
   "execution_count": 50,
   "metadata": {
    "collapsed": false
   },
   "outputs": [
    {
     "data": {
      "text/html": [
       "<div>\n",
       "<table border=\"1\" class=\"dataframe\">\n",
       "  <thead>\n",
       "    <tr style=\"text-align: right;\">\n",
       "      <th></th>\n",
       "      <th>0</th>\n",
       "    </tr>\n",
       "  </thead>\n",
       "  <tbody>\n",
       "    <tr>\n",
       "      <th>1</th>\n",
       "      <td>Hervatting</td>\n",
       "    </tr>\n",
       "  </tbody>\n",
       "</table>\n",
       "</div>"
      ],
      "text/plain": [
       "            0\n",
       "1  Hervatting"
      ]
     },
     "execution_count": 50,
     "metadata": {},
     "output_type": "execute_result"
    }
   ],
   "source": [
    "data_nl= removeNoise(b15)\n",
    "data_nl.head(1)"
   ]
  },
  {
   "cell_type": "code",
   "execution_count": 51,
   "metadata": {
    "collapsed": false
   },
   "outputs": [],
   "source": [
    "path_pl= '~/startup_ml/europarl/txt/pl/*.txt'\n",
    "a171= dataExtraction(path_pl)"
   ]
  },
  {
   "cell_type": "code",
   "execution_count": 52,
   "metadata": {
    "collapsed": true
   },
   "outputs": [],
   "source": [
    "b171= pd.DataFrame(a171)"
   ]
  },
  {
   "cell_type": "code",
   "execution_count": 53,
   "metadata": {
    "collapsed": false
   },
   "outputs": [
    {
     "data": {
      "text/html": [
       "<div>\n",
       "<table border=\"1\" class=\"dataframe\">\n",
       "  <thead>\n",
       "    <tr style=\"text-align: right;\">\n",
       "      <th></th>\n",
       "      <th>0</th>\n",
       "    </tr>\n",
       "  </thead>\n",
       "  <tbody>\n",
       "    <tr>\n",
       "      <th>1</th>\n",
       "      <td>Zatwierdzenie</td>\n",
       "    </tr>\n",
       "  </tbody>\n",
       "</table>\n",
       "</div>"
      ],
      "text/plain": [
       "               0\n",
       "1  Zatwierdzenie"
      ]
     },
     "execution_count": 53,
     "metadata": {},
     "output_type": "execute_result"
    }
   ],
   "source": [
    "data_pl= removeNoise(b171)\n",
    "data_pl.head(1)"
   ]
  },
  {
   "cell_type": "code",
   "execution_count": 54,
   "metadata": {
    "collapsed": true
   },
   "outputs": [],
   "source": [
    "path_pt= '~/startup_ml/europarl/txt/pt/*.txt'\n",
    "a17= dataExtraction(path_pt)"
   ]
  },
  {
   "cell_type": "code",
   "execution_count": 55,
   "metadata": {
    "collapsed": true
   },
   "outputs": [],
   "source": [
    "b17= pd.DataFrame(a17)"
   ]
  },
  {
   "cell_type": "code",
   "execution_count": 56,
   "metadata": {
    "collapsed": false
   },
   "outputs": [
    {
     "data": {
      "text/html": [
       "<div>\n",
       "<table border=\"1\" class=\"dataframe\">\n",
       "  <thead>\n",
       "    <tr style=\"text-align: right;\">\n",
       "      <th></th>\n",
       "      <th>0</th>\n",
       "    </tr>\n",
       "  </thead>\n",
       "  <tbody>\n",
       "    <tr>\n",
       "      <th>1</th>\n",
       "      <td>Reinício</td>\n",
       "    </tr>\n",
       "  </tbody>\n",
       "</table>\n",
       "</div>"
      ],
      "text/plain": [
       "          0\n",
       "1  Reinício"
      ]
     },
     "execution_count": 56,
     "metadata": {},
     "output_type": "execute_result"
    }
   ],
   "source": [
    "data_pt= removeNoise(b17)\n",
    "data_pt.head(1)"
   ]
  },
  {
   "cell_type": "code",
   "execution_count": 57,
   "metadata": {
    "collapsed": true
   },
   "outputs": [],
   "source": [
    "path_ro= '~/startup_ml/europarl/txt/ro/*.txt'\n",
    "a18= dataExtraction(path_ro)"
   ]
  },
  {
   "cell_type": "code",
   "execution_count": 58,
   "metadata": {
    "collapsed": true
   },
   "outputs": [],
   "source": [
    "b18= pd.DataFrame(a18)"
   ]
  },
  {
   "cell_type": "code",
   "execution_count": 59,
   "metadata": {
    "collapsed": false
   },
   "outputs": [
    {
     "data": {
      "text/html": [
       "<div>\n",
       "<table border=\"1\" class=\"dataframe\">\n",
       "  <thead>\n",
       "    <tr style=\"text-align: right;\">\n",
       "      <th></th>\n",
       "      <th>0</th>\n",
       "    </tr>\n",
       "  </thead>\n",
       "  <tbody>\n",
       "    <tr>\n",
       "      <th>1</th>\n",
       "      <td>Componenţa</td>\n",
       "    </tr>\n",
       "  </tbody>\n",
       "</table>\n",
       "</div>"
      ],
      "text/plain": [
       "            0\n",
       "1  Componenţa"
      ]
     },
     "execution_count": 59,
     "metadata": {},
     "output_type": "execute_result"
    }
   ],
   "source": [
    "data_ro= removeNoise(b18)\n",
    "data_ro.head(1)"
   ]
  },
  {
   "cell_type": "code",
   "execution_count": 60,
   "metadata": {
    "collapsed": true
   },
   "outputs": [],
   "source": [
    "path_sk= '~/startup_ml/europarl/txt/sk/*.txt'\n",
    "a19= dataExtraction(path_sk)"
   ]
  },
  {
   "cell_type": "code",
   "execution_count": 61,
   "metadata": {
    "collapsed": true
   },
   "outputs": [],
   "source": [
    "b19= pd.DataFrame(a19)"
   ]
  },
  {
   "cell_type": "code",
   "execution_count": 62,
   "metadata": {
    "collapsed": false
   },
   "outputs": [
    {
     "data": {
      "text/html": [
       "<div>\n",
       "<table border=\"1\" class=\"dataframe\">\n",
       "  <thead>\n",
       "    <tr style=\"text-align: right;\">\n",
       "      <th></th>\n",
       "      <th>0</th>\n",
       "    </tr>\n",
       "  </thead>\n",
       "  <tbody>\n",
       "    <tr>\n",
       "      <th>1</th>\n",
       "      <td>Schválenie</td>\n",
       "    </tr>\n",
       "  </tbody>\n",
       "</table>\n",
       "</div>"
      ],
      "text/plain": [
       "            0\n",
       "1  Schválenie"
      ]
     },
     "execution_count": 62,
     "metadata": {},
     "output_type": "execute_result"
    }
   ],
   "source": [
    "data_sk= removeNoise(b19)\n",
    "data_sk.head(1)"
   ]
  },
  {
   "cell_type": "code",
   "execution_count": 63,
   "metadata": {
    "collapsed": true
   },
   "outputs": [],
   "source": [
    "path_sl= '~/startup_ml/europarl/txt/sl/*.txt'\n",
    "a20= dataExtraction(path_sl)"
   ]
  },
  {
   "cell_type": "code",
   "execution_count": 64,
   "metadata": {
    "collapsed": true
   },
   "outputs": [],
   "source": [
    "b20= pd.DataFrame(a20)"
   ]
  },
  {
   "cell_type": "code",
   "execution_count": 65,
   "metadata": {
    "collapsed": false
   },
   "outputs": [
    {
     "data": {
      "text/html": [
       "<div>\n",
       "<table border=\"1\" class=\"dataframe\">\n",
       "  <thead>\n",
       "    <tr style=\"text-align: right;\">\n",
       "      <th></th>\n",
       "      <th>0</th>\n",
       "    </tr>\n",
       "  </thead>\n",
       "  <tbody>\n",
       "    <tr>\n",
       "      <th>1</th>\n",
       "      <td>Sprejetje</td>\n",
       "    </tr>\n",
       "  </tbody>\n",
       "</table>\n",
       "</div>"
      ],
      "text/plain": [
       "           0\n",
       "1  Sprejetje"
      ]
     },
     "execution_count": 65,
     "metadata": {},
     "output_type": "execute_result"
    }
   ],
   "source": [
    "data_sl= removeNoise(b20)\n",
    "data_sl.head(1)"
   ]
  },
  {
   "cell_type": "code",
   "execution_count": 66,
   "metadata": {
    "collapsed": true
   },
   "outputs": [],
   "source": [
    "path_sv= '~/startup_ml/europarl/txt/sv/*.txt'\n",
    "a21= dataExtraction(path_sv)"
   ]
  },
  {
   "cell_type": "code",
   "execution_count": 67,
   "metadata": {
    "collapsed": true
   },
   "outputs": [],
   "source": [
    "b21= pd.DataFrame(a21)"
   ]
  },
  {
   "cell_type": "code",
   "execution_count": 68,
   "metadata": {
    "collapsed": false
   },
   "outputs": [
    {
     "data": {
      "text/html": [
       "<div>\n",
       "<table border=\"1\" class=\"dataframe\">\n",
       "  <thead>\n",
       "    <tr style=\"text-align: right;\">\n",
       "      <th></th>\n",
       "      <th>0</th>\n",
       "    </tr>\n",
       "  </thead>\n",
       "  <tbody>\n",
       "    <tr>\n",
       "      <th>1</th>\n",
       "      <td>Återupptagande</td>\n",
       "    </tr>\n",
       "  </tbody>\n",
       "</table>\n",
       "</div>"
      ],
      "text/plain": [
       "                0\n",
       "1  Återupptagande"
      ]
     },
     "execution_count": 68,
     "metadata": {},
     "output_type": "execute_result"
    }
   ],
   "source": [
    "data_sv= removeNoise(b21)\n",
    "data_sv.head(1)"
   ]
  },
  {
   "cell_type": "markdown",
   "metadata": {},
   "source": [
    "### Implementing Step 4"
   ]
  },
  {
   "cell_type": "code",
   "execution_count": 69,
   "metadata": {
    "collapsed": true
   },
   "outputs": [],
   "source": [
    "data_bg_str= listToText(data_bg)"
   ]
  },
  {
   "cell_type": "code",
   "execution_count": 70,
   "metadata": {
    "collapsed": false
   },
   "outputs": [],
   "source": [
    "data_cs_str= listToText(data_cs)"
   ]
  },
  {
   "cell_type": "code",
   "execution_count": 71,
   "metadata": {
    "collapsed": true
   },
   "outputs": [],
   "source": [
    "data_da_str= listToText(data_da)"
   ]
  },
  {
   "cell_type": "code",
   "execution_count": 72,
   "metadata": {
    "collapsed": true
   },
   "outputs": [],
   "source": [
    "data_de_str= listToText(data_de)"
   ]
  },
  {
   "cell_type": "code",
   "execution_count": 73,
   "metadata": {
    "collapsed": true
   },
   "outputs": [],
   "source": [
    "data_el_str= listToText(data_el)"
   ]
  },
  {
   "cell_type": "code",
   "execution_count": 74,
   "metadata": {
    "collapsed": true
   },
   "outputs": [],
   "source": [
    "data_en_str= listToText(data_en)"
   ]
  },
  {
   "cell_type": "code",
   "execution_count": 75,
   "metadata": {
    "collapsed": true
   },
   "outputs": [],
   "source": [
    "data_es_str= listToText(data_es)"
   ]
  },
  {
   "cell_type": "code",
   "execution_count": 76,
   "metadata": {
    "collapsed": true
   },
   "outputs": [],
   "source": [
    "data_et_str= listToText(data_et)"
   ]
  },
  {
   "cell_type": "code",
   "execution_count": 77,
   "metadata": {
    "collapsed": true
   },
   "outputs": [],
   "source": [
    "data_fi_str= listToText(data_fi)"
   ]
  },
  {
   "cell_type": "code",
   "execution_count": 78,
   "metadata": {
    "collapsed": true
   },
   "outputs": [],
   "source": [
    "data_fr_str= listToText(data_fr)"
   ]
  },
  {
   "cell_type": "code",
   "execution_count": 79,
   "metadata": {
    "collapsed": true
   },
   "outputs": [],
   "source": [
    "data_hu_str= listToText(data_hu)"
   ]
  },
  {
   "cell_type": "code",
   "execution_count": 80,
   "metadata": {
    "collapsed": true
   },
   "outputs": [],
   "source": [
    "data_it_str= listToText(data_it)"
   ]
  },
  {
   "cell_type": "code",
   "execution_count": 81,
   "metadata": {
    "collapsed": true
   },
   "outputs": [],
   "source": [
    "data_lt_str= listToText(data_lt)"
   ]
  },
  {
   "cell_type": "code",
   "execution_count": 82,
   "metadata": {
    "collapsed": true
   },
   "outputs": [],
   "source": [
    "data_lv_str= listToText(data_lv)"
   ]
  },
  {
   "cell_type": "code",
   "execution_count": 83,
   "metadata": {
    "collapsed": true
   },
   "outputs": [],
   "source": [
    "data_nl_str= listToText(data_nl)"
   ]
  },
  {
   "cell_type": "code",
   "execution_count": 84,
   "metadata": {
    "collapsed": true
   },
   "outputs": [],
   "source": [
    "data_pl_str= listToText(data_pl)"
   ]
  },
  {
   "cell_type": "code",
   "execution_count": 85,
   "metadata": {
    "collapsed": true
   },
   "outputs": [],
   "source": [
    "data_pt_str= listToText(data_pt)"
   ]
  },
  {
   "cell_type": "code",
   "execution_count": 86,
   "metadata": {
    "collapsed": true
   },
   "outputs": [],
   "source": [
    "data_ro_str= listToText(data_ro)"
   ]
  },
  {
   "cell_type": "code",
   "execution_count": 87,
   "metadata": {
    "collapsed": true
   },
   "outputs": [],
   "source": [
    "data_sk_str= listToText(data_sk)"
   ]
  },
  {
   "cell_type": "code",
   "execution_count": 88,
   "metadata": {
    "collapsed": true
   },
   "outputs": [],
   "source": [
    "data_sl_str= listToText(data_sl)"
   ]
  },
  {
   "cell_type": "code",
   "execution_count": 89,
   "metadata": {
    "collapsed": true
   },
   "outputs": [],
   "source": [
    "data_sv_str= listToText(data_sv)"
   ]
  },
  {
   "cell_type": "code",
   "execution_count": 90,
   "metadata": {
    "collapsed": true
   },
   "outputs": [],
   "source": [
    "t= [data_bg_str, data_cs_str, data_da_str, data_de_str, data_el_str, data_en_str, data_es_str, data_et_str, data_fi_str, data_fr_str, data_hu_str, data_it_str, data_lt_str, data_lv_str, data_nl_str, data_pl_str, data_pt_str, data_ro_str, data_sk_str, data_sl_str, data_sv_str]"
   ]
  },
  {
   "cell_type": "markdown",
   "metadata": {},
   "source": [
    "## Step 5: Converting the list 't', of all lists of strings, from every language, into a single dataframe. \n",
    "\n",
    "This dataframe \"trainingData\" is the Training data that we train our model on.\n"
   ]
  },
  {
   "cell_type": "code",
   "execution_count": 91,
   "metadata": {
    "collapsed": true
   },
   "outputs": [],
   "source": [
    "trainingData=pd.DataFrame(t)"
   ]
  },
  {
   "cell_type": "code",
   "execution_count": 92,
   "metadata": {
    "collapsed": false
   },
   "outputs": [
    {
     "data": {
      "text/html": [
       "<div>\n",
       "<table border=\"1\" class=\"dataframe\">\n",
       "  <thead>\n",
       "    <tr style=\"text-align: right;\">\n",
       "      <th></th>\n",
       "      <th>0</th>\n",
       "    </tr>\n",
       "  </thead>\n",
       "  <tbody>\n",
       "    <tr>\n",
       "      <th>0</th>\n",
       "      <td>Състав на Парламента вж протоколи Одобряване п...</td>\n",
       "    </tr>\n",
       "    <tr>\n",
       "      <th>1</th>\n",
       "      <td>Schválení zápisu z předchozího zasedání viz zá...</td>\n",
       "    </tr>\n",
       "    <tr>\n",
       "      <th>2</th>\n",
       "      <td>Genoptagelse af sessionen Formanden   Jeg erkl...</td>\n",
       "    </tr>\n",
       "    <tr>\n",
       "      <th>3</th>\n",
       "      <td>Wiederaufnahme der Sitzungsperiode Die Präside...</td>\n",
       "    </tr>\n",
       "    <tr>\n",
       "      <th>4</th>\n",
       "      <td>Επαvάληψη της συvσδoυ Πρόεδρος   Κηρύσσω την ε...</td>\n",
       "    </tr>\n",
       "    <tr>\n",
       "      <th>5</th>\n",
       "      <td>Resumption of the session President   I declar...</td>\n",
       "    </tr>\n",
       "    <tr>\n",
       "      <th>6</th>\n",
       "      <td>Reanudación del período de sesiones La Preside...</td>\n",
       "    </tr>\n",
       "    <tr>\n",
       "      <th>7</th>\n",
       "      <td>Eelmise istungi protokolli kinnitamine vaata P...</td>\n",
       "    </tr>\n",
       "    <tr>\n",
       "      <th>8</th>\n",
       "      <td>Istuntokauden uudelleenavaaminen Puhemies Juli...</td>\n",
       "    </tr>\n",
       "    <tr>\n",
       "      <th>9</th>\n",
       "      <td>Reprise de la session La Présidente   Je décla...</td>\n",
       "    </tr>\n",
       "    <tr>\n",
       "      <th>10</th>\n",
       "      <td>Az előző ülés jegyzőkönyvének elfogadása lásd ...</td>\n",
       "    </tr>\n",
       "    <tr>\n",
       "      <th>11</th>\n",
       "      <td>Ripresa della sessione Presidente   Dichiaro r...</td>\n",
       "    </tr>\n",
       "    <tr>\n",
       "      <th>12</th>\n",
       "      <td>Ankstesnio posėdžio protokolų tvirtinimas žr p...</td>\n",
       "    </tr>\n",
       "    <tr>\n",
       "      <th>13</th>\n",
       "      <td>Sēdē pieņemto tekstu nosūtīšana sk protokolu N...</td>\n",
       "    </tr>\n",
       "    <tr>\n",
       "      <th>14</th>\n",
       "      <td>Hervatting van de zitting De Voorzitter   Ik v...</td>\n",
       "    </tr>\n",
       "    <tr>\n",
       "      <th>15</th>\n",
       "      <td>Zatwierdzenie protokołu z poprzedniego posiedz...</td>\n",
       "    </tr>\n",
       "    <tr>\n",
       "      <th>16</th>\n",
       "      <td>Reinício da sessão Presidente   Declaro reaber...</td>\n",
       "    </tr>\n",
       "    <tr>\n",
       "      <th>17</th>\n",
       "      <td>Componenţa Parlamentului a se vedea procesul-v...</td>\n",
       "    </tr>\n",
       "    <tr>\n",
       "      <th>18</th>\n",
       "      <td>Schválenie zápisnice z predchádzajúceho rokova...</td>\n",
       "    </tr>\n",
       "    <tr>\n",
       "      <th>19</th>\n",
       "      <td>Sprejetje zapisnika predhodne seje glej zapisn...</td>\n",
       "    </tr>\n",
       "    <tr>\n",
       "      <th>20</th>\n",
       "      <td>Återupptagande av sessionen Talmannen   Jag fö...</td>\n",
       "    </tr>\n",
       "  </tbody>\n",
       "</table>\n",
       "</div>"
      ],
      "text/plain": [
       "                                                    0\n",
       "0   Състав на Парламента вж протоколи Одобряване п...\n",
       "1   Schválení zápisu z předchozího zasedání viz zá...\n",
       "2   Genoptagelse af sessionen Formanden   Jeg erkl...\n",
       "3   Wiederaufnahme der Sitzungsperiode Die Präside...\n",
       "4   Επαvάληψη της συvσδoυ Πρόεδρος   Κηρύσσω την ε...\n",
       "5   Resumption of the session President   I declar...\n",
       "6   Reanudación del período de sesiones La Preside...\n",
       "7   Eelmise istungi protokolli kinnitamine vaata P...\n",
       "8   Istuntokauden uudelleenavaaminen Puhemies Juli...\n",
       "9   Reprise de la session La Présidente   Je décla...\n",
       "10  Az előző ülés jegyzőkönyvének elfogadása lásd ...\n",
       "11  Ripresa della sessione Presidente   Dichiaro r...\n",
       "12  Ankstesnio posėdžio protokolų tvirtinimas žr p...\n",
       "13  Sēdē pieņemto tekstu nosūtīšana sk protokolu N...\n",
       "14  Hervatting van de zitting De Voorzitter   Ik v...\n",
       "15  Zatwierdzenie protokołu z poprzedniego posiedz...\n",
       "16  Reinício da sessão Presidente   Declaro reaber...\n",
       "17  Componenţa Parlamentului a se vedea procesul-v...\n",
       "18  Schválenie zápisnice z predchádzajúceho rokova...\n",
       "19  Sprejetje zapisnika predhodne seje glej zapisn...\n",
       "20  Återupptagande av sessionen Talmannen   Jag fö..."
      ]
     },
     "execution_count": 92,
     "metadata": {},
     "output_type": "execute_result"
    }
   ],
   "source": [
    "trainingData"
   ]
  },
  {
   "cell_type": "markdown",
   "metadata": {},
   "source": [
    "## Step 6: Building the model and training it with the training data"
   ]
  },
  {
   "cell_type": "code",
   "execution_count": 93,
   "metadata": {
    "collapsed": false
   },
   "outputs": [],
   "source": [
    "from sklearn.feature_extraction.text import TfidfVectorizer\n",
    "from sklearn.linear_model import LogisticRegression\n",
    "from sklearn.pipeline import Pipeline\n",
    "from sklearn.feature_extraction.text import CountVectorizer\n",
    "from sklearn.feature_extraction.text import TfidfTransformer"
   ]
  },
  {
   "cell_type": "markdown",
   "metadata": {},
   "source": [
    "### Note:\n",
    "Character frequency analysis and Word frequency analysis is undertaken using a logistic regressing model. n-gram models tested for include:\n",
    "- 1-gram Character frequency analysis\n",
    "- 2-gram Character frequency analysis\n",
    "- 4-gram Character frequency analysis\n",
    "- 1-gram Word frequency analysis\n",
    "- 2-gram Word frequency analysis\n",
    "\n",
    "We use a pipeline to implement these models and we use all CPU cores to build the models. L2 regularization is used to prevent overfitting of the models to training data. The inverse of regularization strength \"C\" is set to 1.0 for all models. Thereby, the models generalize to new unseen data.\n",
    "\n",
    "\n"
   ]
  },
  {
   "cell_type": "code",
   "execution_count": 95,
   "metadata": {
    "collapsed": true
   },
   "outputs": [],
   "source": [
    "\n",
    "text_clf_1gram = Pipeline([('vect', CountVectorizer(ngram_range=(1,1), analyzer='char')), ('tfidf', TfidfTransformer(use_idf=False)), ('lrg', LogisticRegression(n_jobs=-1))])\n"
   ]
  },
  {
   "cell_type": "code",
   "execution_count": 96,
   "metadata": {
    "collapsed": true
   },
   "outputs": [],
   "source": [
    "basicmodel_1gram = text_clf_1gram.fit(trainingData[0], labels)"
   ]
  },
  {
   "cell_type": "code",
   "execution_count": 110,
   "metadata": {
    "collapsed": true
   },
   "outputs": [],
   "source": [
    "\n",
    "text_clf_1gramWord = Pipeline([('vect', CountVectorizer(ngram_range=(1,1), analyzer='word')), ('tfidf', TfidfTransformer(use_idf=False)), ('lrg', LogisticRegression(n_jobs=-1))])\n"
   ]
  },
  {
   "cell_type": "code",
   "execution_count": 111,
   "metadata": {
    "collapsed": true
   },
   "outputs": [],
   "source": [
    "basicmodel_1gramWord = text_clf_1gramWord.fit(trainingData[0], labels)"
   ]
  },
  {
   "cell_type": "code",
   "execution_count": 97,
   "metadata": {
    "collapsed": true
   },
   "outputs": [],
   "source": [
    "\n",
    "text_clf_2gram = Pipeline([('vect', CountVectorizer(ngram_range=(1,2), analyzer='char')), ('tfidf', TfidfTransformer(use_idf=False)), ('lrg', LogisticRegression(n_jobs=-1))])\n"
   ]
  },
  {
   "cell_type": "code",
   "execution_count": 98,
   "metadata": {
    "collapsed": true
   },
   "outputs": [],
   "source": [
    "basicmodel_2gram = text_clf_2gram.fit(trainingData[0], labels)"
   ]
  },
  {
   "cell_type": "code",
   "execution_count": 99,
   "metadata": {
    "collapsed": true
   },
   "outputs": [],
   "source": [
    "\n",
    "text_clf_4gram = Pipeline([('vect', CountVectorizer(ngram_range=(1,4), analyzer='char')), ('tfidf', TfidfTransformer(use_idf=False)), ('lrg', LogisticRegression(n_jobs=-1))])\n"
   ]
  },
  {
   "cell_type": "code",
   "execution_count": 100,
   "metadata": {
    "collapsed": true
   },
   "outputs": [],
   "source": [
    "basicmodel_4gram = text_clf_4gram.fit(trainingData[0], labels)"
   ]
  },
  {
   "cell_type": "code",
   "execution_count": 114,
   "metadata": {
    "collapsed": true
   },
   "outputs": [],
   "source": [
    "\n",
    "text_clf_2gramWord = Pipeline([('vect', CountVectorizer(ngram_range=(1,2), analyzer='word')), ('tfidf', TfidfTransformer(use_idf=False)), ('lrg', LogisticRegression(n_jobs=-1))])\n"
   ]
  },
  {
   "cell_type": "code",
   "execution_count": 115,
   "metadata": {
    "collapsed": true
   },
   "outputs": [],
   "source": [
    "basicmodel_2gramWord = text_clf_2gramWord.fit(trainingData[0], labels)"
   ]
  },
  {
   "cell_type": "markdown",
   "metadata": {},
   "source": [
    "### Implementing Step 3, preprocessing the Test data "
   ]
  },
  {
   "cell_type": "code",
   "execution_count": 101,
   "metadata": {
    "collapsed": false
   },
   "outputs": [],
   "source": [
    "datatest = pd.read_csv('~/startup_ml/europarl-test/europarl.csv', sep='\\t',header=None)"
   ]
  },
  {
   "cell_type": "code",
   "execution_count": 102,
   "metadata": {
    "collapsed": false
   },
   "outputs": [],
   "source": [
    "datatest[1]= datatest[1].str.replace('\\(.*?\\)','')\n",
    "testData= removeNoiseTest(datatest)"
   ]
  },
  {
   "cell_type": "code",
   "execution_count": 103,
   "metadata": {
    "collapsed": false
   },
   "outputs": [
    {
     "data": {
      "text/html": [
       "<div>\n",
       "<table border=\"1\" class=\"dataframe\">\n",
       "  <thead>\n",
       "    <tr style=\"text-align: right;\">\n",
       "      <th></th>\n",
       "      <th>0</th>\n",
       "      <th>1</th>\n",
       "    </tr>\n",
       "  </thead>\n",
       "  <tbody>\n",
       "    <tr>\n",
       "      <th>0</th>\n",
       "      <td>bg</td>\n",
       "      <td>Европа      не трябва да стартира нов конкурен...</td>\n",
       "    </tr>\n",
       "    <tr>\n",
       "      <th>1</th>\n",
       "      <td>bg</td>\n",
       "      <td>Най-голямата несправедливост на сегашната обща...</td>\n",
       "    </tr>\n",
       "    <tr>\n",
       "      <th>2</th>\n",
       "      <td>bg</td>\n",
       "      <td>Г-жо председател  г-н член на Комисията  по пр...</td>\n",
       "    </tr>\n",
       "    <tr>\n",
       "      <th>3</th>\n",
       "      <td>bg</td>\n",
       "      <td>Г-н председател  бих искал да започна с комент...</td>\n",
       "    </tr>\n",
       "    <tr>\n",
       "      <th>4</th>\n",
       "      <td>bg</td>\n",
       "      <td>Г-н председател  въпросът за правата на човека...</td>\n",
       "    </tr>\n",
       "  </tbody>\n",
       "</table>\n",
       "</div>"
      ],
      "text/plain": [
       "    0                                                  1\n",
       "0  bg  Европа      не трябва да стартира нов конкурен...\n",
       "1  bg  Най-голямата несправедливост на сегашната обща...\n",
       "2  bg  Г-жо председател  г-н член на Комисията  по пр...\n",
       "3  bg  Г-н председател  бих искал да започна с комент...\n",
       "4  bg  Г-н председател  въпросът за правата на човека..."
      ]
     },
     "execution_count": 103,
     "metadata": {},
     "output_type": "execute_result"
    }
   ],
   "source": [
    "testData.head(5)"
   ]
  },
  {
   "cell_type": "markdown",
   "metadata": {},
   "source": [
    "## Step 7: Using the trained model to make predictions on the Test data"
   ]
  },
  {
   "cell_type": "code",
   "execution_count": 104,
   "metadata": {
    "collapsed": false
   },
   "outputs": [],
   "source": [
    "prediction_1gram= basicmodel_1gram.predict(testData[1])"
   ]
  },
  {
   "cell_type": "markdown",
   "metadata": {},
   "source": [
    "## Analysis of 1-gram Character Model"
   ]
  },
  {
   "cell_type": "code",
   "execution_count": 105,
   "metadata": {
    "collapsed": false,
    "scrolled": true
   },
   "outputs": [
    {
     "name": "stdout",
     "output_type": "stream",
     "text": [
      "             precision    recall  f1-score   support\n",
      "\n",
      "         bg       1.00      1.00      1.00       997\n",
      "         cs       0.49      0.96      0.65       993\n",
      "         da       0.85      0.79      0.82       994\n",
      "         de       0.78      0.89      0.83       993\n",
      "         el       1.00      1.00      1.00       988\n",
      "         en       0.81      0.72      0.76       998\n",
      "         es       0.75      0.51      0.61       996\n",
      "         et       0.90      0.71      0.80       993\n",
      "         fi       0.84      0.96      0.90       995\n",
      "         fr       0.91      0.72      0.81       999\n",
      "         hu       0.91      0.97      0.94       998\n",
      "         it       0.90      0.48      0.63       996\n",
      "         lt       0.78      0.94      0.85       995\n",
      "         lv       0.95      0.94      0.95       978\n",
      "         nl       0.64      0.90      0.75       999\n",
      "         pl       0.95      0.97      0.96       997\n",
      "         pt       0.69      0.85      0.76       996\n",
      "         ro       0.73      0.88      0.80       927\n",
      "         sk       0.73      0.20      0.31       929\n",
      "         sl       0.90      0.80      0.85       998\n",
      "         sv       0.93      0.75      0.83       996\n",
      "\n",
      "avg / total       0.83      0.81      0.80     20755\n",
      "\n",
      "0.808961695977\n"
     ]
    }
   ],
   "source": [
    "from sklearn.metrics import classification_report\n",
    "from sklearn.metrics import f1_score\n",
    "from sklearn.metrics import accuracy_score \n",
    "from sklearn.metrics import confusion_matrix\n",
    "from sklearn.metrics import precision_recall_fscore_support\n",
    "\n",
    "print (classification_report(testData[0], prediction_1gram))\n",
    "print (accuracy_score(testData[0], prediction_1gram))"
   ]
  },
  {
   "cell_type": "markdown",
   "metadata": {},
   "source": [
    "### Prediction accuracy of 80.896% was achieved on test data using a model trained with 1-gram Character logistic regression Model"
   ]
  },
  {
   "cell_type": "code",
   "execution_count": 112,
   "metadata": {
    "collapsed": true
   },
   "outputs": [],
   "source": [
    "prediction_1gramWord= basicmodel_1gramWord.predict(testData[1])"
   ]
  },
  {
   "cell_type": "markdown",
   "metadata": {},
   "source": [
    "## Analysis of 1-gram Word Model"
   ]
  },
  {
   "cell_type": "code",
   "execution_count": 113,
   "metadata": {
    "collapsed": false,
    "scrolled": true
   },
   "outputs": [
    {
     "name": "stdout",
     "output_type": "stream",
     "text": [
      "             precision    recall  f1-score   support\n",
      "\n",
      "         bg       1.00      1.00      1.00       997\n",
      "         cs       0.85      0.50      0.63       993\n",
      "         da       0.96      0.89      0.92       994\n",
      "         de       0.94      0.97      0.95       993\n",
      "         el       0.63      1.00      0.78       988\n",
      "         en       0.92      0.96      0.94       998\n",
      "         es       0.83      0.72      0.77       996\n",
      "         et       0.93      0.88      0.90       993\n",
      "         fi       0.91      0.82      0.86       995\n",
      "         fr       0.72      0.79      0.75       999\n",
      "         hu       0.98      0.94      0.96       998\n",
      "         it       0.86      0.92      0.89       996\n",
      "         lt       0.97      0.84      0.90       995\n",
      "         lv       0.79      0.91      0.85       978\n",
      "         nl       0.52      0.94      0.67       999\n",
      "         pl       0.95      0.81      0.87       997\n",
      "         pt       0.47      0.56      0.51       996\n",
      "         ro       0.99      0.84      0.91       927\n",
      "         sk       0.91      0.71      0.79       929\n",
      "         sl       0.78      0.44      0.56       998\n",
      "         sv       0.98      0.89      0.93       996\n",
      "\n",
      "avg / total       0.85      0.83      0.83     20755\n",
      "\n",
      "0.825439653096\n"
     ]
    }
   ],
   "source": [
    "print (classification_report(testData[0], prediction_1gramWord))\n",
    "print (accuracy_score(testData[0], prediction_1gramWord))"
   ]
  },
  {
   "cell_type": "markdown",
   "metadata": {},
   "source": [
    "### Prediction accuracy of 82.5439% was achieved on test data using a model trained with 1-gram Word logistic regression Model"
   ]
  },
  {
   "cell_type": "code",
   "execution_count": 106,
   "metadata": {
    "collapsed": true
   },
   "outputs": [],
   "source": [
    "prediction_2gram= basicmodel_2gram.predict(testData[1])"
   ]
  },
  {
   "cell_type": "markdown",
   "metadata": {},
   "source": [
    "## Analysis of 2-gram Character Model"
   ]
  },
  {
   "cell_type": "code",
   "execution_count": 107,
   "metadata": {
    "collapsed": false
   },
   "outputs": [
    {
     "name": "stdout",
     "output_type": "stream",
     "text": [
      "             precision    recall  f1-score   support\n",
      "\n",
      "         bg       1.00      1.00      1.00       997\n",
      "         cs       0.62      0.98      0.76       993\n",
      "         da       0.90      0.90      0.90       994\n",
      "         de       0.89      0.96      0.92       993\n",
      "         el       1.00      1.00      1.00       988\n",
      "         en       0.96      0.89      0.92       998\n",
      "         es       0.93      0.72      0.81       996\n",
      "         et       0.95      0.83      0.88       993\n",
      "         fi       0.88      0.99      0.93       995\n",
      "         fr       0.94      0.93      0.93       999\n",
      "         hu       0.95      0.99      0.97       998\n",
      "         it       0.96      0.79      0.87       996\n",
      "         lt       0.91      0.96      0.94       995\n",
      "         lv       0.98      0.98      0.98       978\n",
      "         nl       0.83      0.94      0.88       999\n",
      "         pl       0.98      0.99      0.98       997\n",
      "         pt       0.79      0.94      0.86       996\n",
      "         ro       0.88      0.96      0.92       927\n",
      "         sk       0.97      0.41      0.58       929\n",
      "         sl       0.95      0.93      0.94       998\n",
      "         sv       0.96      0.86      0.91       996\n",
      "\n",
      "avg / total       0.92      0.90      0.90     20755\n",
      "\n",
      "0.903444953023\n"
     ]
    }
   ],
   "source": [
    "print (classification_report(testData[0], prediction_2gram))\n",
    "print (accuracy_score(testData[0], prediction_2gram))"
   ]
  },
  {
   "cell_type": "markdown",
   "metadata": {},
   "source": [
    "### Prediction accuracy of 90.344% was achieved on test data using a model trained with 2-gram Character logistic regression Model"
   ]
  },
  {
   "cell_type": "code",
   "execution_count": 108,
   "metadata": {
    "collapsed": true
   },
   "outputs": [],
   "source": [
    "prediction_4gram= basicmodel_4gram.predict(testData[1])"
   ]
  },
  {
   "cell_type": "markdown",
   "metadata": {},
   "source": [
    "## Analysis of 4-gram Character Model"
   ]
  },
  {
   "cell_type": "code",
   "execution_count": 109,
   "metadata": {
    "collapsed": false,
    "scrolled": true
   },
   "outputs": [
    {
     "name": "stdout",
     "output_type": "stream",
     "text": [
      "             precision    recall  f1-score   support\n",
      "\n",
      "         bg       1.00      1.00      1.00       997\n",
      "         cs       0.68      0.98      0.80       993\n",
      "         da       0.93      0.93      0.93       994\n",
      "         de       0.91      0.98      0.94       993\n",
      "         el       1.00      1.00      1.00       988\n",
      "         en       0.99      0.92      0.95       998\n",
      "         es       0.98      0.83      0.90       996\n",
      "         et       0.97      0.87      0.92       993\n",
      "         fi       0.90      0.99      0.95       995\n",
      "         fr       0.97      0.95      0.96       999\n",
      "         hu       0.95      0.99      0.97       998\n",
      "         it       0.98      0.88      0.93       996\n",
      "         lt       0.93      0.97      0.95       995\n",
      "         lv       0.99      0.99      0.99       978\n",
      "         nl       0.90      0.95      0.92       999\n",
      "         pl       0.98      0.99      0.98       997\n",
      "         pt       0.85      0.97      0.91       996\n",
      "         ro       0.92      0.98      0.95       927\n",
      "         sk       0.99      0.53      0.69       929\n",
      "         sl       0.96      0.95      0.95       998\n",
      "         sv       0.97      0.89      0.93       996\n",
      "\n",
      "avg / total       0.94      0.93      0.93     20755\n",
      "\n",
      "0.931775475789\n"
     ]
    }
   ],
   "source": [
    "print (classification_report(testData[0], prediction_4gram))\n",
    "print (accuracy_score(testData[0], prediction_4gram))"
   ]
  },
  {
   "cell_type": "markdown",
   "metadata": {},
   "source": [
    "### Prediction accuracy of 93.1775% was achieved on test data using a model trained with 4-gram Character logistic regression Model"
   ]
  },
  {
   "cell_type": "code",
   "execution_count": 116,
   "metadata": {
    "collapsed": true
   },
   "outputs": [],
   "source": [
    "prediction_2gramWord= basicmodel_2gramWord.predict(testData[1])"
   ]
  },
  {
   "cell_type": "markdown",
   "metadata": {},
   "source": [
    "## Analysis of 2-gram Word Model"
   ]
  },
  {
   "cell_type": "code",
   "execution_count": 117,
   "metadata": {
    "collapsed": false,
    "scrolled": true
   },
   "outputs": [
    {
     "name": "stdout",
     "output_type": "stream",
     "text": [
      "             precision    recall  f1-score   support\n",
      "\n",
      "         bg       1.00      1.00      1.00       997\n",
      "         cs       0.85      0.49      0.62       993\n",
      "         da       0.96      0.89      0.92       994\n",
      "         de       0.94      0.97      0.95       993\n",
      "         el       0.62      1.00      0.77       988\n",
      "         en       0.91      0.96      0.94       998\n",
      "         es       0.83      0.72      0.77       996\n",
      "         et       0.93      0.88      0.90       993\n",
      "         fi       0.91      0.82      0.86       995\n",
      "         fr       0.71      0.79      0.75       999\n",
      "         hu       0.99      0.94      0.96       998\n",
      "         it       0.86      0.92      0.89       996\n",
      "         lt       0.97      0.83      0.89       995\n",
      "         lv       0.79      0.90      0.84       978\n",
      "         nl       0.52      0.94      0.67       999\n",
      "         pl       0.95      0.81      0.87       997\n",
      "         pt       0.47      0.57      0.51       996\n",
      "         ro       0.99      0.84      0.91       927\n",
      "         sk       0.91      0.70      0.79       929\n",
      "         sl       0.78      0.44      0.56       998\n",
      "         sv       0.98      0.89      0.93       996\n",
      "\n",
      "avg / total       0.85      0.82      0.83     20755\n",
      "\n",
      "0.823849674777\n"
     ]
    }
   ],
   "source": [
    "print (classification_report(testData[0], prediction_2gramWord))\n",
    "print (accuracy_score(testData[0], prediction_2gramWord))"
   ]
  },
  {
   "cell_type": "markdown",
   "metadata": {},
   "source": [
    "### Prediction accuracy of 82.3849% was achieved on test data using a model trained with 2-gram Word logistic regression Model"
   ]
  },
  {
   "cell_type": "code",
   "execution_count": 13,
   "metadata": {
    "collapsed": true
   },
   "outputs": [],
   "source": [
    "accuracyC=[80.8961695977, 90.3444953023, 93.1775475789]\n",
    "accuracyW=[82.5439653096, 82.3849674777, 0]\n",
    "accuracyCA=[1, 2, 4]\n",
    "accuracyWA=[1.2, 2.2, 4]"
   ]
  },
  {
   "cell_type": "code",
   "execution_count": 28,
   "metadata": {
    "collapsed": false
   },
   "outputs": [
    {
     "data": {
      "image/png": "[encoded data removed]",
      "text/plain": [
       "<matplotlib.figure.Figure at 0x19b2de35438>"
      ]
     },
     "metadata": {},
     "output_type": "display_data"
    }
   ],
   "source": [
    "import matplotlib.pyplot as plt\n",
    "width = 0.25\n",
    "fig, ax = plt.subplots(figsize=(10,5))\n",
    "plt.bar(accuracyCA, accuracyC,\n",
    "        # of width\n",
    "        width,\n",
    "        # with alpha 0.5\n",
    "        alpha=0.7,\n",
    "        # with color\n",
    "        color='#EE3224')\n",
    "\n",
    "plt.bar(accuracyWA, accuracyW,\n",
    "        # of width\n",
    "        width,\n",
    "        # with alpha 0.5\n",
    "        alpha=0.7,\n",
    "        # with color\n",
    "        color='b')\n",
    "\n",
    "ax.set_xticks([1.1, 2.1, 4])\n",
    "ax.set_xticklabels(('1', '2', '4'))\n",
    "plt.legend(['Character Analysis', 'Word Analysis'], bbox_to_anchor=(1.05, 1), loc=2, borderaxespad=0.)\n",
    "plt.xlabel(\"n chosen for n-gram modeling\")\n",
    "plt.ylabel(\"Model Accuracy on Test Data\")\n",
    "\n",
    "plt.show()        "
   ]
  },
  {
   "cell_type": "markdown",
   "metadata": {},
   "source": [
    "## Analysis of result for 4-gram Character Model\n",
    "\n",
    "The crosstab below shows us the false positives and false negatives that gives us some insight into correlation between languages. \"P\" stands for Predicted values and \"A\" stands for Actual values in the crosstab. \n",
    "- 399 strings in Slovak where missclassified as Czech. This points at the two languages being highly correlated. This makes sense since Czech Republic and Slovakia have a shared history contributing to similartes between the two languages spoken in this region. \n",
    "\n",
    "Similarly the following prominent trends emerged:\n",
    "- 114 Spanish strings were missclassified as Portuguese\n",
    "- 68 Estonian strings were missclassified as Finnish\n",
    "- 44 Swedish strings were missclassified as Danish\n",
    "- 42 Italian strings were missclassified as Romanian\n",
    "- 30 Italian strings were missclassified as Portuguese\n",
    "- 28 Dutch strings were missclassified as German\n",
    "- 22 Danish strings were missclassified as Dutch\n",
    "- 22 Estonian strings were missclassified as Lithuanian\n"
   ]
  },
  {
   "cell_type": "code",
   "execution_count": 133,
   "metadata": {
    "collapsed": false,
    "scrolled": true
   },
   "outputs": [],
   "source": [
    "CT=pd.crosstab(testData[0], prediction_4gram, rownames=[\"A\"], colnames=[\"P\"], margins=True)\n",
    "CT= pd.DataFrame(CT)\n",
    "CT.to_csv('~/startup_ml/Book1.csv')"
   ]
  },
  {
   "cell_type": "code",
   "execution_count": 130,
   "metadata": {
    "collapsed": false
   },
   "outputs": [
    {
     "data": {
      "text/html": [
       "<div>\n",
       "<table border=\"1\" class=\"dataframe\">\n",
       "  <thead>\n",
       "    <tr style=\"text-align: right;\">\n",
       "      <th>P</th>\n",
       "      <th>bg</th>\n",
       "      <th>cs</th>\n",
       "      <th>da</th>\n",
       "      <th>de</th>\n",
       "      <th>el</th>\n",
       "      <th>en</th>\n",
       "      <th>es</th>\n",
       "      <th>et</th>\n",
       "      <th>fi</th>\n",
       "      <th>fr</th>\n",
       "      <th>...</th>\n",
       "      <th>lt</th>\n",
       "      <th>lv</th>\n",
       "      <th>nl</th>\n",
       "      <th>pl</th>\n",
       "      <th>pt</th>\n",
       "      <th>ro</th>\n",
       "      <th>sk</th>\n",
       "      <th>sl</th>\n",
       "      <th>sv</th>\n",
       "      <th>All</th>\n",
       "    </tr>\n",
       "    <tr>\n",
       "      <th>A</th>\n",
       "      <th></th>\n",
       "      <th></th>\n",
       "      <th></th>\n",
       "      <th></th>\n",
       "      <th></th>\n",
       "      <th></th>\n",
       "      <th></th>\n",
       "      <th></th>\n",
       "      <th></th>\n",
       "      <th></th>\n",
       "      <th></th>\n",
       "      <th></th>\n",
       "      <th></th>\n",
       "      <th></th>\n",
       "      <th></th>\n",
       "      <th></th>\n",
       "      <th></th>\n",
       "      <th></th>\n",
       "      <th></th>\n",
       "      <th></th>\n",
       "      <th></th>\n",
       "    </tr>\n",
       "  </thead>\n",
       "  <tbody>\n",
       "    <tr>\n",
       "      <th>bg</th>\n",
       "      <td>997</td>\n",
       "      <td>0</td>\n",
       "      <td>0</td>\n",
       "      <td>0</td>\n",
       "      <td>0</td>\n",
       "      <td>0</td>\n",
       "      <td>0</td>\n",
       "      <td>0</td>\n",
       "      <td>0</td>\n",
       "      <td>0</td>\n",
       "      <td>...</td>\n",
       "      <td>0</td>\n",
       "      <td>0</td>\n",
       "      <td>0</td>\n",
       "      <td>0</td>\n",
       "      <td>0</td>\n",
       "      <td>0</td>\n",
       "      <td>0</td>\n",
       "      <td>0</td>\n",
       "      <td>0</td>\n",
       "      <td>997</td>\n",
       "    </tr>\n",
       "    <tr>\n",
       "      <th>cs</th>\n",
       "      <td>0</td>\n",
       "      <td>971</td>\n",
       "      <td>0</td>\n",
       "      <td>0</td>\n",
       "      <td>0</td>\n",
       "      <td>0</td>\n",
       "      <td>0</td>\n",
       "      <td>2</td>\n",
       "      <td>1</td>\n",
       "      <td>0</td>\n",
       "      <td>...</td>\n",
       "      <td>3</td>\n",
       "      <td>0</td>\n",
       "      <td>1</td>\n",
       "      <td>3</td>\n",
       "      <td>2</td>\n",
       "      <td>1</td>\n",
       "      <td>0</td>\n",
       "      <td>2</td>\n",
       "      <td>1</td>\n",
       "      <td>993</td>\n",
       "    </tr>\n",
       "    <tr>\n",
       "      <th>da</th>\n",
       "      <td>0</td>\n",
       "      <td>0</td>\n",
       "      <td>926</td>\n",
       "      <td>7</td>\n",
       "      <td>1</td>\n",
       "      <td>3</td>\n",
       "      <td>0</td>\n",
       "      <td>0</td>\n",
       "      <td>1</td>\n",
       "      <td>1</td>\n",
       "      <td>...</td>\n",
       "      <td>1</td>\n",
       "      <td>1</td>\n",
       "      <td>22</td>\n",
       "      <td>0</td>\n",
       "      <td>1</td>\n",
       "      <td>2</td>\n",
       "      <td>0</td>\n",
       "      <td>0</td>\n",
       "      <td>18</td>\n",
       "      <td>994</td>\n",
       "    </tr>\n",
       "    <tr>\n",
       "      <th>de</th>\n",
       "      <td>0</td>\n",
       "      <td>0</td>\n",
       "      <td>8</td>\n",
       "      <td>971</td>\n",
       "      <td>0</td>\n",
       "      <td>1</td>\n",
       "      <td>0</td>\n",
       "      <td>1</td>\n",
       "      <td>1</td>\n",
       "      <td>0</td>\n",
       "      <td>...</td>\n",
       "      <td>3</td>\n",
       "      <td>1</td>\n",
       "      <td>5</td>\n",
       "      <td>0</td>\n",
       "      <td>0</td>\n",
       "      <td>0</td>\n",
       "      <td>0</td>\n",
       "      <td>0</td>\n",
       "      <td>0</td>\n",
       "      <td>993</td>\n",
       "    </tr>\n",
       "    <tr>\n",
       "      <th>el</th>\n",
       "      <td>0</td>\n",
       "      <td>0</td>\n",
       "      <td>0</td>\n",
       "      <td>0</td>\n",
       "      <td>988</td>\n",
       "      <td>0</td>\n",
       "      <td>0</td>\n",
       "      <td>0</td>\n",
       "      <td>0</td>\n",
       "      <td>0</td>\n",
       "      <td>...</td>\n",
       "      <td>0</td>\n",
       "      <td>0</td>\n",
       "      <td>0</td>\n",
       "      <td>0</td>\n",
       "      <td>0</td>\n",
       "      <td>0</td>\n",
       "      <td>0</td>\n",
       "      <td>0</td>\n",
       "      <td>0</td>\n",
       "      <td>988</td>\n",
       "    </tr>\n",
       "    <tr>\n",
       "      <th>en</th>\n",
       "      <td>0</td>\n",
       "      <td>9</td>\n",
       "      <td>2</td>\n",
       "      <td>14</td>\n",
       "      <td>0</td>\n",
       "      <td>923</td>\n",
       "      <td>0</td>\n",
       "      <td>6</td>\n",
       "      <td>3</td>\n",
       "      <td>6</td>\n",
       "      <td>...</td>\n",
       "      <td>2</td>\n",
       "      <td>1</td>\n",
       "      <td>14</td>\n",
       "      <td>4</td>\n",
       "      <td>6</td>\n",
       "      <td>1</td>\n",
       "      <td>0</td>\n",
       "      <td>0</td>\n",
       "      <td>1</td>\n",
       "      <td>998</td>\n",
       "    </tr>\n",
       "    <tr>\n",
       "      <th>es</th>\n",
       "      <td>0</td>\n",
       "      <td>4</td>\n",
       "      <td>0</td>\n",
       "      <td>12</td>\n",
       "      <td>1</td>\n",
       "      <td>0</td>\n",
       "      <td>823</td>\n",
       "      <td>0</td>\n",
       "      <td>1</td>\n",
       "      <td>11</td>\n",
       "      <td>...</td>\n",
       "      <td>3</td>\n",
       "      <td>0</td>\n",
       "      <td>9</td>\n",
       "      <td>0</td>\n",
       "      <td>114</td>\n",
       "      <td>10</td>\n",
       "      <td>0</td>\n",
       "      <td>1</td>\n",
       "      <td>0</td>\n",
       "      <td>996</td>\n",
       "    </tr>\n",
       "    <tr>\n",
       "      <th>et</th>\n",
       "      <td>0</td>\n",
       "      <td>4</td>\n",
       "      <td>2</td>\n",
       "      <td>7</td>\n",
       "      <td>0</td>\n",
       "      <td>0</td>\n",
       "      <td>1</td>\n",
       "      <td>866</td>\n",
       "      <td>68</td>\n",
       "      <td>0</td>\n",
       "      <td>...</td>\n",
       "      <td>22</td>\n",
       "      <td>0</td>\n",
       "      <td>13</td>\n",
       "      <td>0</td>\n",
       "      <td>0</td>\n",
       "      <td>0</td>\n",
       "      <td>0</td>\n",
       "      <td>6</td>\n",
       "      <td>2</td>\n",
       "      <td>993</td>\n",
       "    </tr>\n",
       "    <tr>\n",
       "      <th>fi</th>\n",
       "      <td>0</td>\n",
       "      <td>1</td>\n",
       "      <td>0</td>\n",
       "      <td>2</td>\n",
       "      <td>0</td>\n",
       "      <td>0</td>\n",
       "      <td>0</td>\n",
       "      <td>2</td>\n",
       "      <td>988</td>\n",
       "      <td>0</td>\n",
       "      <td>...</td>\n",
       "      <td>0</td>\n",
       "      <td>0</td>\n",
       "      <td>2</td>\n",
       "      <td>0</td>\n",
       "      <td>0</td>\n",
       "      <td>0</td>\n",
       "      <td>0</td>\n",
       "      <td>0</td>\n",
       "      <td>0</td>\n",
       "      <td>995</td>\n",
       "    </tr>\n",
       "    <tr>\n",
       "      <th>fr</th>\n",
       "      <td>0</td>\n",
       "      <td>2</td>\n",
       "      <td>2</td>\n",
       "      <td>9</td>\n",
       "      <td>0</td>\n",
       "      <td>2</td>\n",
       "      <td>3</td>\n",
       "      <td>3</td>\n",
       "      <td>1</td>\n",
       "      <td>950</td>\n",
       "      <td>...</td>\n",
       "      <td>4</td>\n",
       "      <td>0</td>\n",
       "      <td>7</td>\n",
       "      <td>0</td>\n",
       "      <td>1</td>\n",
       "      <td>11</td>\n",
       "      <td>1</td>\n",
       "      <td>1</td>\n",
       "      <td>0</td>\n",
       "      <td>999</td>\n",
       "    </tr>\n",
       "    <tr>\n",
       "      <th>hu</th>\n",
       "      <td>0</td>\n",
       "      <td>1</td>\n",
       "      <td>0</td>\n",
       "      <td>1</td>\n",
       "      <td>0</td>\n",
       "      <td>0</td>\n",
       "      <td>0</td>\n",
       "      <td>0</td>\n",
       "      <td>1</td>\n",
       "      <td>0</td>\n",
       "      <td>...</td>\n",
       "      <td>2</td>\n",
       "      <td>0</td>\n",
       "      <td>0</td>\n",
       "      <td>0</td>\n",
       "      <td>0</td>\n",
       "      <td>0</td>\n",
       "      <td>0</td>\n",
       "      <td>2</td>\n",
       "      <td>0</td>\n",
       "      <td>998</td>\n",
       "    </tr>\n",
       "    <tr>\n",
       "      <th>it</th>\n",
       "      <td>0</td>\n",
       "      <td>5</td>\n",
       "      <td>4</td>\n",
       "      <td>3</td>\n",
       "      <td>0</td>\n",
       "      <td>0</td>\n",
       "      <td>9</td>\n",
       "      <td>2</td>\n",
       "      <td>3</td>\n",
       "      <td>6</td>\n",
       "      <td>...</td>\n",
       "      <td>3</td>\n",
       "      <td>0</td>\n",
       "      <td>8</td>\n",
       "      <td>0</td>\n",
       "      <td>30</td>\n",
       "      <td>42</td>\n",
       "      <td>0</td>\n",
       "      <td>2</td>\n",
       "      <td>0</td>\n",
       "      <td>996</td>\n",
       "    </tr>\n",
       "    <tr>\n",
       "      <th>lt</th>\n",
       "      <td>0</td>\n",
       "      <td>4</td>\n",
       "      <td>0</td>\n",
       "      <td>1</td>\n",
       "      <td>0</td>\n",
       "      <td>0</td>\n",
       "      <td>1</td>\n",
       "      <td>3</td>\n",
       "      <td>1</td>\n",
       "      <td>0</td>\n",
       "      <td>...</td>\n",
       "      <td>968</td>\n",
       "      <td>5</td>\n",
       "      <td>0</td>\n",
       "      <td>1</td>\n",
       "      <td>4</td>\n",
       "      <td>1</td>\n",
       "      <td>0</td>\n",
       "      <td>5</td>\n",
       "      <td>0</td>\n",
       "      <td>995</td>\n",
       "    </tr>\n",
       "    <tr>\n",
       "      <th>lv</th>\n",
       "      <td>0</td>\n",
       "      <td>0</td>\n",
       "      <td>0</td>\n",
       "      <td>0</td>\n",
       "      <td>0</td>\n",
       "      <td>0</td>\n",
       "      <td>1</td>\n",
       "      <td>1</td>\n",
       "      <td>1</td>\n",
       "      <td>0</td>\n",
       "      <td>...</td>\n",
       "      <td>7</td>\n",
       "      <td>965</td>\n",
       "      <td>0</td>\n",
       "      <td>1</td>\n",
       "      <td>2</td>\n",
       "      <td>0</td>\n",
       "      <td>0</td>\n",
       "      <td>0</td>\n",
       "      <td>0</td>\n",
       "      <td>978</td>\n",
       "    </tr>\n",
       "    <tr>\n",
       "      <th>nl</th>\n",
       "      <td>0</td>\n",
       "      <td>4</td>\n",
       "      <td>1</td>\n",
       "      <td>28</td>\n",
       "      <td>0</td>\n",
       "      <td>2</td>\n",
       "      <td>0</td>\n",
       "      <td>1</td>\n",
       "      <td>2</td>\n",
       "      <td>0</td>\n",
       "      <td>...</td>\n",
       "      <td>1</td>\n",
       "      <td>1</td>\n",
       "      <td>947</td>\n",
       "      <td>2</td>\n",
       "      <td>3</td>\n",
       "      <td>1</td>\n",
       "      <td>0</td>\n",
       "      <td>2</td>\n",
       "      <td>1</td>\n",
       "      <td>999</td>\n",
       "    </tr>\n",
       "    <tr>\n",
       "      <th>pl</th>\n",
       "      <td>0</td>\n",
       "      <td>0</td>\n",
       "      <td>1</td>\n",
       "      <td>1</td>\n",
       "      <td>0</td>\n",
       "      <td>0</td>\n",
       "      <td>0</td>\n",
       "      <td>1</td>\n",
       "      <td>2</td>\n",
       "      <td>0</td>\n",
       "      <td>...</td>\n",
       "      <td>1</td>\n",
       "      <td>0</td>\n",
       "      <td>1</td>\n",
       "      <td>989</td>\n",
       "      <td>0</td>\n",
       "      <td>1</td>\n",
       "      <td>0</td>\n",
       "      <td>0</td>\n",
       "      <td>0</td>\n",
       "      <td>997</td>\n",
       "    </tr>\n",
       "    <tr>\n",
       "      <th>pt</th>\n",
       "      <td>0</td>\n",
       "      <td>1</td>\n",
       "      <td>1</td>\n",
       "      <td>4</td>\n",
       "      <td>0</td>\n",
       "      <td>0</td>\n",
       "      <td>3</td>\n",
       "      <td>1</td>\n",
       "      <td>1</td>\n",
       "      <td>2</td>\n",
       "      <td>...</td>\n",
       "      <td>1</td>\n",
       "      <td>0</td>\n",
       "      <td>6</td>\n",
       "      <td>0</td>\n",
       "      <td>967</td>\n",
       "      <td>4</td>\n",
       "      <td>0</td>\n",
       "      <td>0</td>\n",
       "      <td>0</td>\n",
       "      <td>996</td>\n",
       "    </tr>\n",
       "    <tr>\n",
       "      <th>ro</th>\n",
       "      <td>0</td>\n",
       "      <td>0</td>\n",
       "      <td>1</td>\n",
       "      <td>1</td>\n",
       "      <td>0</td>\n",
       "      <td>0</td>\n",
       "      <td>0</td>\n",
       "      <td>2</td>\n",
       "      <td>3</td>\n",
       "      <td>0</td>\n",
       "      <td>...</td>\n",
       "      <td>4</td>\n",
       "      <td>0</td>\n",
       "      <td>2</td>\n",
       "      <td>0</td>\n",
       "      <td>5</td>\n",
       "      <td>905</td>\n",
       "      <td>1</td>\n",
       "      <td>2</td>\n",
       "      <td>0</td>\n",
       "      <td>927</td>\n",
       "    </tr>\n",
       "    <tr>\n",
       "      <th>sk</th>\n",
       "      <td>0</td>\n",
       "      <td>399</td>\n",
       "      <td>1</td>\n",
       "      <td>1</td>\n",
       "      <td>0</td>\n",
       "      <td>0</td>\n",
       "      <td>0</td>\n",
       "      <td>1</td>\n",
       "      <td>3</td>\n",
       "      <td>0</td>\n",
       "      <td>...</td>\n",
       "      <td>4</td>\n",
       "      <td>0</td>\n",
       "      <td>1</td>\n",
       "      <td>10</td>\n",
       "      <td>1</td>\n",
       "      <td>1</td>\n",
       "      <td>492</td>\n",
       "      <td>12</td>\n",
       "      <td>0</td>\n",
       "      <td>929</td>\n",
       "    </tr>\n",
       "    <tr>\n",
       "      <th>sl</th>\n",
       "      <td>0</td>\n",
       "      <td>18</td>\n",
       "      <td>4</td>\n",
       "      <td>1</td>\n",
       "      <td>0</td>\n",
       "      <td>0</td>\n",
       "      <td>1</td>\n",
       "      <td>4</td>\n",
       "      <td>1</td>\n",
       "      <td>0</td>\n",
       "      <td>...</td>\n",
       "      <td>11</td>\n",
       "      <td>0</td>\n",
       "      <td>5</td>\n",
       "      <td>2</td>\n",
       "      <td>1</td>\n",
       "      <td>0</td>\n",
       "      <td>3</td>\n",
       "      <td>944</td>\n",
       "      <td>0</td>\n",
       "      <td>998</td>\n",
       "    </tr>\n",
       "    <tr>\n",
       "      <th>sv</th>\n",
       "      <td>0</td>\n",
       "      <td>3</td>\n",
       "      <td>44</td>\n",
       "      <td>6</td>\n",
       "      <td>0</td>\n",
       "      <td>5</td>\n",
       "      <td>1</td>\n",
       "      <td>1</td>\n",
       "      <td>13</td>\n",
       "      <td>0</td>\n",
       "      <td>...</td>\n",
       "      <td>0</td>\n",
       "      <td>3</td>\n",
       "      <td>9</td>\n",
       "      <td>2</td>\n",
       "      <td>0</td>\n",
       "      <td>0</td>\n",
       "      <td>0</td>\n",
       "      <td>0</td>\n",
       "      <td>889</td>\n",
       "      <td>996</td>\n",
       "    </tr>\n",
       "    <tr>\n",
       "      <th>All</th>\n",
       "      <td>997</td>\n",
       "      <td>1426</td>\n",
       "      <td>997</td>\n",
       "      <td>1069</td>\n",
       "      <td>990</td>\n",
       "      <td>936</td>\n",
       "      <td>843</td>\n",
       "      <td>897</td>\n",
       "      <td>1095</td>\n",
       "      <td>976</td>\n",
       "      <td>...</td>\n",
       "      <td>1040</td>\n",
       "      <td>977</td>\n",
       "      <td>1052</td>\n",
       "      <td>1014</td>\n",
       "      <td>1137</td>\n",
       "      <td>980</td>\n",
       "      <td>497</td>\n",
       "      <td>979</td>\n",
       "      <td>912</td>\n",
       "      <td>20755</td>\n",
       "    </tr>\n",
       "  </tbody>\n",
       "</table>\n",
       "<p>22 rows × 22 columns</p>\n",
       "</div>"
      ],
      "text/plain": [
       "P     bg    cs   da    de   el   en   es   et    fi   fr  ...      lt   lv  \\\n",
       "A                                                         ...                \n",
       "bg   997     0    0     0    0    0    0    0     0    0  ...       0    0   \n",
       "cs     0   971    0     0    0    0    0    2     1    0  ...       3    0   \n",
       "da     0     0  926     7    1    3    0    0     1    1  ...       1    1   \n",
       "de     0     0    8   971    0    1    0    1     1    0  ...       3    1   \n",
       "el     0     0    0     0  988    0    0    0     0    0  ...       0    0   \n",
       "en     0     9    2    14    0  923    0    6     3    6  ...       2    1   \n",
       "es     0     4    0    12    1    0  823    0     1   11  ...       3    0   \n",
       "et     0     4    2     7    0    0    1  866    68    0  ...      22    0   \n",
       "fi     0     1    0     2    0    0    0    2   988    0  ...       0    0   \n",
       "fr     0     2    2     9    0    2    3    3     1  950  ...       4    0   \n",
       "hu     0     1    0     1    0    0    0    0     1    0  ...       2    0   \n",
       "it     0     5    4     3    0    0    9    2     3    6  ...       3    0   \n",
       "lt     0     4    0     1    0    0    1    3     1    0  ...     968    5   \n",
       "lv     0     0    0     0    0    0    1    1     1    0  ...       7  965   \n",
       "nl     0     4    1    28    0    2    0    1     2    0  ...       1    1   \n",
       "pl     0     0    1     1    0    0    0    1     2    0  ...       1    0   \n",
       "pt     0     1    1     4    0    0    3    1     1    2  ...       1    0   \n",
       "ro     0     0    1     1    0    0    0    2     3    0  ...       4    0   \n",
       "sk     0   399    1     1    0    0    0    1     3    0  ...       4    0   \n",
       "sl     0    18    4     1    0    0    1    4     1    0  ...      11    0   \n",
       "sv     0     3   44     6    0    5    1    1    13    0  ...       0    3   \n",
       "All  997  1426  997  1069  990  936  843  897  1095  976  ...    1040  977   \n",
       "\n",
       "P      nl    pl    pt   ro   sk   sl   sv    All  \n",
       "A                                                 \n",
       "bg      0     0     0    0    0    0    0    997  \n",
       "cs      1     3     2    1    0    2    1    993  \n",
       "da     22     0     1    2    0    0   18    994  \n",
       "de      5     0     0    0    0    0    0    993  \n",
       "el      0     0     0    0    0    0    0    988  \n",
       "en     14     4     6    1    0    0    1    998  \n",
       "es      9     0   114   10    0    1    0    996  \n",
       "et     13     0     0    0    0    6    2    993  \n",
       "fi      2     0     0    0    0    0    0    995  \n",
       "fr      7     0     1   11    1    1    0    999  \n",
       "hu      0     0     0    0    0    2    0    998  \n",
       "it      8     0    30   42    0    2    0    996  \n",
       "lt      0     1     4    1    0    5    0    995  \n",
       "lv      0     1     2    0    0    0    0    978  \n",
       "nl    947     2     3    1    0    2    1    999  \n",
       "pl      1   989     0    1    0    0    0    997  \n",
       "pt      6     0   967    4    0    0    0    996  \n",
       "ro      2     0     5  905    1    2    0    927  \n",
       "sk      1    10     1    1  492   12    0    929  \n",
       "sl      5     2     1    0    3  944    0    998  \n",
       "sv      9     2     0    0    0    0  889    996  \n",
       "All  1052  1014  1137  980  497  979  912  20755  \n",
       "\n",
       "[22 rows x 22 columns]"
      ]
     },
     "execution_count": 130,
     "metadata": {},
     "output_type": "execute_result"
    }
   ],
   "source": [
    "CT"
   ]
  },
  {
   "cell_type": "markdown",
   "metadata": {
    "collapsed": true
   },
   "source": [
    "# Inference \n",
    "\n",
    "The European Parliment corpus is sizable at about 5 GB. This would seem to be a data at scale problem requiring Big Data analysis. However, by means of sampling we can execute the language detection classifier on a regular PC using the SciPy stack. Around 26.5 MB of text files were randomly selected for each language and analysis was carried out for this subsample (~554 MB) of the 5 GB corpus. We are able to still get a model accuracy of 93.1775%, with the model generalizing to new unseen data. "
   ]
  },
  {
   "cell_type": "code",
   "execution_count": null,
   "metadata": {
    "collapsed": true
   },
   "outputs": [],
   "source": []
  }
 ],
 "metadata": {
  "kernelspec": {
   "display_name": "Python 3",
   "language": "python",
   "name": "python3"
  },
  "language_info": {
   "codemirror_mode": {
    "name": "ipython",
    "version": 3
   },
   "file_extension": ".py",
   "mimetype": "text/x-python",
   "name": "python",
   "nbconvert_exporter": "python",
   "pygments_lexer": "ipython3",
   "version": "3.6.0"
  }
 },
 "nbformat": 4,
 "nbformat_minor": 2
}
